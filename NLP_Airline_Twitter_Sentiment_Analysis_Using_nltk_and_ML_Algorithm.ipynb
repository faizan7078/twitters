{
  "nbformat": 4,
  "nbformat_minor": 0,
  "metadata": {
    "colab": {
      "name": "NLP : Airline Twitter Sentiment Analysis Using nltk and ML Algorithm",
      "private_outputs": true,
      "provenance": [],
      "authorship_tag": "ABX9TyPpiiVgo8lm5dfmqBuKvuYx",
      "include_colab_link": true
    },
    "kernelspec": {
      "name": "python3",
      "display_name": "Python 3"
    },
    "language_info": {
      "name": "python"
    }
  },
  "cells": [
    {
      "cell_type": "markdown",
      "metadata": {
        "id": "view-in-github",
        "colab_type": "text"
      },
      "source": [
        "<a href=\"https://colab.research.google.com/github/faizan7078/twitters/blob/main/NLP_Airline_Twitter_Sentiment_Analysis_Using_nltk_and_ML_Algorithm.ipynb\" target=\"_parent\"><img src=\"https://colab.research.google.com/assets/colab-badge.svg\" alt=\"Open In Colab\"/></a>"
      ]
    },
    {
      "cell_type": "markdown",
      "metadata": {
        "id": "W74CXHVien9j"
      },
      "source": [
        "**Problem : Sentiment Analysis of US Airline Tweets**"
      ]
    },
    {
      "cell_type": "markdown",
      "metadata": {
        "id": "v5MM4W0jexCm"
      },
      "source": [
        "import the Libraries"
      ]
    },
    {
      "cell_type": "code",
      "metadata": {
        "id": "E0dwQX395bZv"
      },
      "source": [
        "import pandas as pd\n",
        "import numpy as np\n",
        "import matplotlib.pyplot as plt\n",
        "import seaborn as sns\n",
        "import nltk\n",
        "import re"
      ],
      "execution_count": null,
      "outputs": []
    },
    {
      "cell_type": "code",
      "metadata": {
        "id": "TKwaZGdU6CZf"
      },
      "source": [
        "data = pd.read_csv('/content/Tweets.csv.zip')"
      ],
      "execution_count": null,
      "outputs": []
    },
    {
      "cell_type": "markdown",
      "metadata": {
        "id": "M4jGePWl6-Rn"
      },
      "source": [
        "**Exploratory Data Analysi**s"
      ]
    },
    {
      "cell_type": "code",
      "metadata": {
        "id": "VyVxjFuj6CU_"
      },
      "source": [
        "data.head()"
      ],
      "execution_count": null,
      "outputs": []
    },
    {
      "cell_type": "code",
      "metadata": {
        "id": "37Awdn3R6CTC"
      },
      "source": [
        "data.tail()"
      ],
      "execution_count": null,
      "outputs": []
    },
    {
      "cell_type": "code",
      "metadata": {
        "id": "41RSjzie6COr"
      },
      "source": [
        "data.shape"
      ],
      "execution_count": null,
      "outputs": []
    },
    {
      "cell_type": "code",
      "metadata": {
        "id": "qoVIJR436CMw"
      },
      "source": [
        "data.info()"
      ],
      "execution_count": null,
      "outputs": []
    },
    {
      "cell_type": "code",
      "metadata": {
        "id": "taSTomNw6CKV"
      },
      "source": [
        "data.columns"
      ],
      "execution_count": null,
      "outputs": []
    },
    {
      "cell_type": "code",
      "metadata": {
        "id": "KTORiXQa6CGc"
      },
      "source": [
        "#Finding if there is any missing value"
      ],
      "execution_count": null,
      "outputs": []
    },
    {
      "cell_type": "code",
      "metadata": {
        "id": "AZZNj3mT6CCW"
      },
      "source": [
        "data.isnull().sum()"
      ],
      "execution_count": null,
      "outputs": []
    },
    {
      "cell_type": "markdown",
      "metadata": {
        "id": "gnCSC7Vi7xuo"
      },
      "source": [
        "**Visualizations**"
      ]
    },
    {
      "cell_type": "code",
      "metadata": {
        "id": "33e0gjzi6CAY"
      },
      "source": [
        "sns.heatmap(data.isnull(),yticklabels=False,cbar=False,cmap='viridis')"
      ],
      "execution_count": null,
      "outputs": []
    },
    {
      "cell_type": "code",
      "metadata": {
        "id": "lf-i_Bzs9gOR"
      },
      "source": [
        "import matplotlib.pyplot as plt\n",
        "%matplotlib inline\n",
        "plt.style.use('fivethirtyeight')"
      ],
      "execution_count": null,
      "outputs": []
    },
    {
      "cell_type": "code",
      "metadata": {
        "id": "cCyuln8V6B7n"
      },
      "source": [
        "data.airline.value_counts().plot(kind='pie',autopct='%1.0f')"
      ],
      "execution_count": null,
      "outputs": []
    },
    {
      "cell_type": "code",
      "metadata": {
        "id": "n44HBZ-O6B3Q"
      },
      "source": [
        "sns.countplot(x='airline_sentiment',data=data,palette='viridis')"
      ],
      "execution_count": null,
      "outputs": []
    },
    {
      "cell_type": "code",
      "metadata": {
        "id": "pczpvtGu6Bz3"
      },
      "source": [
        "plt.figure(figsize=(12,7))\n",
        "sns.countplot(x='airline',hue='airline_sentiment',data=data,palette='rainbow')"
      ],
      "execution_count": null,
      "outputs": []
    },
    {
      "cell_type": "code",
      "metadata": {
        "id": "zHtYSJI36Bva"
      },
      "source": [
        "sns.barplot(x='airline_sentiment',y='airline_sentiment_confidence',data=data,palette='viridis')"
      ],
      "execution_count": null,
      "outputs": []
    },
    {
      "cell_type": "code",
      "metadata": {
        "id": "WzCL3VB76BtR"
      },
      "source": [
        "sns.boxplot(x='airline',y='airline_sentiment_confidence',data=data)"
      ],
      "execution_count": null,
      "outputs": []
    },
    {
      "cell_type": "markdown",
      "metadata": {
        "id": "eG-3vljq_inq"
      },
      "source": [
        "**Data Cleaning**"
      ]
    },
    {
      "cell_type": "code",
      "metadata": {
        "id": "Nl-e3V2h_l1B"
      },
      "source": [
        "Features = data.iloc[:,10].values\n",
        "Labels = data.iloc[:,1].values"
      ],
      "execution_count": null,
      "outputs": []
    },
    {
      "cell_type": "code",
      "metadata": {
        "id": "-on14mDO_nlV"
      },
      "source": [
        "processed_Features = []\n",
        "\n",
        "for sentence in range(0,len(Features)):\n",
        "    #remove all the special character\n",
        "    processed_Feature = re.sub(r'\\W',' ',str(Features[sentence]))\n",
        "\n",
        "    #remove all single characters\n",
        "    processed_Feature = re.sub(r'\\s+[a-zA-Z]\\s+',' ',processed_Feature)\n",
        "\n",
        "    #remove single characters from the start\n",
        "    processed_Feature = re.sub(r'\\^[a-zA-Z]\\s+',' ',processed_Feature)\n",
        "\n",
        "    #substituting multiple spaces with single space\n",
        "    processed_Feature = re.sub(r'\\s+',' ',processed_Feature,flags=re.I)\n",
        "\n",
        "    #Removing prefixed 'b'\n",
        "    processed_Feature = re.sub(r'^b\\s+', ' ',processed_Feature)\n",
        "\n",
        "    #converrting into lowercase\n",
        "    processed_Feature = processed_Feature.lower()\n",
        "    processed_Features.append(processed_Feature)"
      ],
      "execution_count": null,
      "outputs": []
    },
    {
      "cell_type": "code",
      "metadata": {
        "id": "f9pTikqk_nim"
      },
      "source": [
        "from nltk.corpus import stopwords\n",
        "from sklearn.feature_extraction.text import TfidfVectorizer\n",
        "!pip install --user -U nltk\n",
        "import nltk\n",
        "nltk.download('stopwords')"
      ],
      "execution_count": null,
      "outputs": []
    },
    {
      "cell_type": "code",
      "metadata": {
        "id": "vYEPS1xi_nes"
      },
      "source": [
        "vectorizer = TfidfVectorizer(max_features=2500,min_df=7,max_df=0.8,stop_words=stopwords.words('english'))\n",
        "processed_Features = vectorizer.fit_transform(processed_Features).toarray()"
      ],
      "execution_count": null,
      "outputs": []
    },
    {
      "cell_type": "markdown",
      "metadata": {
        "id": "iJsIy4KnBJhV"
      },
      "source": [
        "**Train-Test Split**"
      ]
    },
    {
      "cell_type": "code",
      "metadata": {
        "id": "RlFWhtf3_nZ6"
      },
      "source": [
        "from sklearn.model_selection import train_test_split\n",
        "x_train,x_test,y_train,y_test = train_test_split(processed_Features,Labels,test_size=0.2,random_state=0)"
      ],
      "execution_count": null,
      "outputs": []
    },
    {
      "cell_type": "code",
      "metadata": {
        "id": "HjzmTNFB_nX_"
      },
      "source": [
        "import sys\n",
        "print(sys.version)"
      ],
      "execution_count": null,
      "outputs": []
    },
    {
      "cell_type": "markdown",
      "metadata": {
        "id": "DRt-EGTdBilJ"
      },
      "source": [
        "**Build Classifification Models**"
      ]
    },
    {
      "cell_type": "markdown",
      "metadata": {
        "id": "7OGcVbacBp_9"
      },
      "source": [
        "1. Random Forest Classifier"
      ]
    },
    {
      "cell_type": "code",
      "metadata": {
        "id": "1hDFfa3b_nTA"
      },
      "source": [
        "from sklearn.ensemble import RandomForestClassifier\n",
        "\n",
        "text_classifier = RandomForestClassifier(n_estimators=200,random_state=0)\n",
        "text_classifier.fit(x_train,y_train)"
      ],
      "execution_count": null,
      "outputs": []
    },
    {
      "cell_type": "code",
      "metadata": {
        "id": "6-u3ZNDV_nRI"
      },
      "source": [
        "predictions = text_classifier.predict(x_test)"
      ],
      "execution_count": null,
      "outputs": []
    },
    {
      "cell_type": "code",
      "metadata": {
        "id": "o_lGC2PC_nNG"
      },
      "source": [
        "predictions"
      ],
      "execution_count": null,
      "outputs": []
    },
    {
      "cell_type": "code",
      "metadata": {
        "id": "yL2AGsoH_nKk"
      },
      "source": [
        "from sklearn.metrics import confusion_matrix,accuracy_score\n",
        "\n",
        "cm=confusion_matrix(y_test,predictions)\n",
        "print(cm)"
      ],
      "execution_count": null,
      "outputs": []
    },
    {
      "cell_type": "code",
      "metadata": {
        "id": "PxDodOHS_nHY"
      },
      "source": [
        "# plot confusion matrix\n",
        "plt.figure(figsize=(8,6))\n",
        "sns.heatmap(cm, cmap=plt.cm.Blues, annot=True, fmt='d')\n"
      ],
      "execution_count": null,
      "outputs": []
    },
    {
      "cell_type": "code",
      "metadata": {
        "id": "_vILVvr8_nD6"
      },
      "source": [
        "print('accuracy score',accuracy_score(y_test,predictions))"
      ],
      "execution_count": null,
      "outputs": []
    },
    {
      "cell_type": "code",
      "metadata": {
        "id": "fn8mQlHu_m_i"
      },
      "source": [
        "from sklearn.metrics import classification_report\n",
        "print(classification_report(y_test,predictions))"
      ],
      "execution_count": null,
      "outputs": []
    },
    {
      "cell_type": "markdown",
      "metadata": {
        "id": "iakbwds4aA9s"
      },
      "source": [
        "**2.Support Vector Machine**"
      ]
    },
    {
      "cell_type": "code",
      "metadata": {
        "id": "_w_C1UJ9_m9V"
      },
      "source": [
        "from sklearn.svm import SVC\n",
        "clf = SVC(kernel='linear',random_state=1)\n",
        "clf.fit(x_train,y_train)\n",
        "predictions = clf.predict(x_test)"
      ],
      "execution_count": null,
      "outputs": []
    },
    {
      "cell_type": "code",
      "metadata": {
        "id": "q-V3DLCjcaC8"
      },
      "source": [
        "from sklearn.metrics import confusion_matrix,accuracy_score\n",
        "\n",
        "print(confusion_matrix(y_test,predictions))"
      ],
      "execution_count": null,
      "outputs": []
    },
    {
      "cell_type": "code",
      "metadata": {
        "id": "rpe2crLHcaAt"
      },
      "source": [
        "print('accuracy score',accuracy_score(y_test,predictions))"
      ],
      "execution_count": null,
      "outputs": []
    },
    {
      "cell_type": "code",
      "metadata": {
        "id": "FRq71aIFcZ8r"
      },
      "source": [
        "from sklearn.metrics import classification_report\n",
        "print(classification_report(y_test,predictions))"
      ],
      "execution_count": null,
      "outputs": []
    },
    {
      "cell_type": "markdown",
      "metadata": {
        "id": "48uRjQOPdRjV"
      },
      "source": [
        "**Naive Bayes Classifier**"
      ]
    },
    {
      "cell_type": "code",
      "metadata": {
        "id": "C0p4WIPBcZ4m"
      },
      "source": [
        "from sklearn.naive_bayes import MultinomialNB\n",
        "classifier = MultinomialNB()\n",
        "classifier.fit(x_train,y_train)"
      ],
      "execution_count": null,
      "outputs": []
    },
    {
      "cell_type": "code",
      "metadata": {
        "id": "jJZVcZ1Zdl1s"
      },
      "source": [
        "predictions = classifier.predict(x_test)"
      ],
      "execution_count": null,
      "outputs": []
    },
    {
      "cell_type": "code",
      "metadata": {
        "id": "L0EV3ANNcZzm"
      },
      "source": [
        "from sklearn.metrics import confusion_matrix,accuracy_score\n",
        "\n",
        "print(confusion_matrix(y_test,predictions))"
      ],
      "execution_count": null,
      "outputs": []
    },
    {
      "cell_type": "code",
      "metadata": {
        "id": "fmzRw0CRdwlu"
      },
      "source": [
        "print('accuracy score',accuracy_score(y_test,predictions))"
      ],
      "execution_count": null,
      "outputs": []
    },
    {
      "cell_type": "code",
      "metadata": {
        "id": "C4nXhqRMdwjy"
      },
      "source": [
        "from sklearn.metrics import classification_report\n",
        "print(classification_report(y_test,predictions))"
      ],
      "execution_count": null,
      "outputs": []
    },
    {
      "cell_type": "markdown",
      "metadata": {
        "id": "wC3RwiFeeBX8"
      },
      "source": [
        "Based on the comparison and error analysis of 3 models such as Random Forest Classifier, Support Vector Machine and Naive Bayes Classifier, We can clearly see that Support Vector Machine(SVM) is the best among call."
      ]
    }
  ]
}